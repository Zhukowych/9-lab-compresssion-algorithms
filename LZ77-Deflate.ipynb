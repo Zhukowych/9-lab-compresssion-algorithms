{
  "cells": [
    {
      "cell_type": "markdown",
      "metadata": {
        "id": "TUMlYqj3oKCC"
      },
      "source": [
        "## Лабораторна робота №2: \"Імплементація алгоритмів стиснення\"\n",
        "\n",
        "Склад команди та розподіл виконаних завдань:\n",
        "\n",
        "-\n",
        "-\n",
        "\n",
        "Для кожного з алгоритмів поданих нижче\n",
        "- опишіть як працює алгорит\n",
        "- напишіть класи з методами encode та decode\n",
        "- перевірте правильність кодування та декодування\n",
        "- дослідіть час виконання коду в залежності від розмірів вхідних даних\n",
        "- оцініть ступінь стиснення(у відсотка) в залежності від розмірів\n",
        "- напишіть висновок про ефективність різних алгоритмів та умови за яких той чи інший алгоритм дають кращий результат"
      ]
    },
    {
      "cell_type": "markdown",
      "metadata": {
        "id": "q7FpJG25oNzA"
      },
      "source": [
        "# Алгоритм Гаффмана\n",
        "\n",
        "В цьому алгоритмі доцільно імплементувати клас node та додаткові функції в Huffman для побудови дерева кодування"
      ]
    },
    {
      "cell_type": "code",
      "execution_count": null,
      "metadata": {
        "id": "5fHzFB9gh7c2"
      },
      "outputs": [],
      "source": [
        "class Huffman:\n",
        "    def encode(self, text: str) -> tuple[str, dict[str, str]]:\n",
        "        pass\n",
        "\n",
        "    def decode(self, code: str, coding_dict: dict[str, str]):\n",
        "        pass"
      ]
    },
    {
      "cell_type": "markdown",
      "metadata": {
        "id": "eETQbkkDoTDc"
      },
      "source": [
        "# Алгоритм LZ77\n",
        "\n",
        "Потрібно заміряти розміри саме тексту, проте для роботи доцільно використовувати список тюплів, тому для зручності варто імплементувати додаткові алгоритми _text2list та _list2text"
      ]
    },
    {
      "cell_type": "code",
      "execution_count": null,
      "metadata": {
        "id": "Mu1A0QS2oaOF"
      },
      "outputs": [],
      "source": [
        "class LZ77:\n",
        "    def __init__(self, buffer_size: int):\n",
        "        pass\n",
        "\n",
        "    def encode(self, text: str) -> str:\n",
        "        pass\n",
        "\n",
        "    def decode(self, code: str) -> str:\n",
        "        pass"
      ]
    },
    {
      "cell_type": "markdown",
      "metadata": {
        "id": "bz-B5jWroghO"
      },
      "source": [
        "# Алгоритм Deflate"
      ]
    },
    {
      "cell_type": "code",
      "execution_count": null,
      "metadata": {
        "id": "ZAU57ZQtogOC"
      },
      "outputs": [],
      "source": [
        "class Deflate:\n",
        "    def __init__(self, buffer_size: int):\n",
        "        pass\n",
        "\n",
        "    def encode(self, text: str) -> str:\n",
        "        pass\n",
        "\n",
        "    def decode(self, code: str) -> str:\n",
        "        pass"
      ]
    }
  ],
  "metadata": {
    "colab": {
      "provenance": []
    },
    "kernelspec": {
      "display_name": "Python 3",
      "name": "python3"
    },
    "language_info": {
      "name": "python"
    }
  },
  "nbformat": 4,
  "nbformat_minor": 0
}
