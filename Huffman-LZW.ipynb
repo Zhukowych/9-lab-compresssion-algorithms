{
  "cells": [
    {
      "cell_type": "markdown",
      "metadata": {
        "id": "TUMlYqj3oKCC"
      },
      "source": [
        "## Лабораторна робота №2: \"Імплементація алгоритмів стиснення\"\n",
        "\n",
        "Склад команди та розподіл виконаних завдань:\n",
        "\n",
        "-\n",
        "-\n",
        "\n",
        "Для кожного з алгоритмів поданих нижче\n",
        "- опишіть як працює алгорит\n",
        "- напишіть класи з методами encode та decode\n",
        "- перевірте правильність кодування та декодування\n",
        "- дослідіть час виконання коду в залежності від розмірів вхідних даних\n",
        "- оцініть ступінь стиснення(у відсотка) в залежності від розмірів\n",
        "- напишіть висновок про ефективність різних алгоритмів та умови за яких той чи інший алгоритм дають кращий результат"
      ]
    },
    {
      "cell_type": "markdown",
      "metadata": {
        "id": "q7FpJG25oNzA"
      },
      "source": [
        "# Алгоритм Гаффмана\n",
        "\n",
        "В цьому алгоритмі доцільно імплементувати клас node та додаткові функції в Huffman для побудови дерева кодування"
      ]
    },
    {
      "cell_type": "code",
      "execution_count": null,
      "metadata": {
        "id": "5fHzFB9gh7c2"
      },
      "outputs": [],
      "source": [
        "class Node:\n",
        "    def __init__(self, value, code = None, left = None, right = None) -> None:\n",
        "        self.value = value\n",
        "        self.left_child = left\n",
        "        self.right_child = right\n",
        "        self.code = code\n",
        "\n",
        "class Huffman:\n",
        "    @staticmethod\n",
        "    def encode(text: str) -> tuple[str, dict[str, str]]:\n",
        "        length, output_chance_dict, sorted_dict = len(text), {}, []\n",
        "\n",
        "        for i in text:\n",
        "            output_chance_dict.setdefault(i, 0)\n",
        "            output_chance_dict[i] += 1/length\n",
        "\n",
        "        sorted_dict = {Node(value, key) for key, value in output_chance_dict.items()}\n",
        "\n",
        "        sorted_dict = sorted(sorted_dict, key = lambda x: x.value)\n",
        "\n",
        "        # Build tree\n",
        "\n",
        "        while len(sorted_dict) > 1:\n",
        "            sorted_dict.append(Node(sorted_dict[0].value + sorted_dict[1].value, left = sorted_dict.pop(0), right = sorted_dict.pop(0)))\n",
        "            sorted_dict = sorted(sorted_dict, key = lambda x: x.value)\n",
        "\n",
        "        # Encode characters\n",
        "\n",
        "        encoding_dictinary = {}\n",
        "\n",
        "        def recursive_encode(node:Node, existing_code):\n",
        "            if node.code is not None:\n",
        "                encoding_dictinary[node.code] = existing_code\n",
        "                return\n",
        "            recursive_encode(node.left_child, existing_code + '0')\n",
        "            recursive_encode(node.right_child, existing_code + '1')\n",
        "\n",
        "        recursive_encode(sorted_dict[0], '')\n",
        "        return \"\".join([encoding_dictinary[i] for i in text]) ,encoding_dictinary\n",
        "\n",
        "    @staticmethod\n",
        "    def decode(code: str, coding_dict: dict[str, str]):\n",
        "        if code == '':\n",
        "            return list(coding_dict.keys())[0]\n",
        "        point_now, number, output = '', 0, ''\n",
        "        while code:\n",
        "            point_now += code[number]\n",
        "            for key, value in coding_dict.items():\n",
        "                if point_now == value:\n",
        "                    code = code[number + 1:]\n",
        "                    number = -1\n",
        "                    output += key\n",
        "                    point_now = ''\n",
        "                    break\n",
        "            number += 1\n",
        "        return output\n"
      ]
    },
    {
      "cell_type": "markdown",
      "metadata": {
        "id": "6_0LIrbWoQxo"
      },
      "source": [
        "# Алгоритм LZW"
      ]
    },
    {
      "cell_type": "code",
      "execution_count": null,
      "metadata": {
        "id": "ogew0FkaoUNS"
      },
      "outputs": [],
      "source": [
        "class LZW:\n",
        "\n",
        "    @staticmethod\n",
        "    def encode(text: str) -> tuple[str, list]:\n",
        "        if not text:\n",
        "            return text, []\n",
        "        if len(text) == 1:\n",
        "            return '0', [text]\n",
        "        key_dictinary = sorted(set(text))\n",
        "\n",
        "        initial_dictinary = key_dictinary.copy()\n",
        "\n",
        "        length = len(text)\n",
        "        current_code, output_code = text[0], ''\n",
        "        current_pos = 1\n",
        "        while current_pos < length:\n",
        "            add_code = current_code + text[current_pos]\n",
        "            if add_code in key_dictinary:\n",
        "                current_code = add_code\n",
        "                current_pos += 1\n",
        "            else:\n",
        "                output_code += str(key_dictinary.index(add_code[:-1])) + ' '\n",
        "                key_dictinary.append(add_code)\n",
        "                current_code = ''\n",
        "        output_code += str(key_dictinary.index(add_code))\n",
        "        return output_code, initial_dictinary\n",
        "\n",
        "    @staticmethod\n",
        "    def decode(code: str, coding_dict: list) -> str:\n",
        "        if code == '':\n",
        "            return ''\n",
        "        if len(code) == 1:\n",
        "            return coding_dict[0]\n",
        "        starter_coding_dict = coding_dict.copy()\n",
        "        output_text = ''\n",
        "        current_pos_decode, code = 0, code.split(' ')\n",
        "        lenght = len(code)\n",
        "        while current_pos_decode < lenght:\n",
        "            add_text = int(code[current_pos_decode])\n",
        "            if add_text < len(coding_dict):\n",
        "                output_text += coding_dict[add_text]\n",
        "                current_pos_decode += 1\n",
        "            else:\n",
        "                coding_dict = starter_coding_dict.copy()\n",
        "                current_code = ''\n",
        "                current_pos_encode, add_code = 0, ''\n",
        "                while len(coding_dict) <= add_text:     ### Double count\n",
        "                    if current_pos_encode >= len(output_text):\n",
        "                        coding_dict.append(add_code + add_code[0])\n",
        "                    else:\n",
        "                        add_code = current_code + output_text[current_pos_encode]\n",
        "                    if add_code in coding_dict:\n",
        "                        current_code = add_code\n",
        "                        current_pos_encode += 1\n",
        "                    else:\n",
        "                        coding_dict.append(add_code)\n",
        "                        current_code = ''\n",
        "        return output_text\n"
      ]
    }
  ],
  "metadata": {
    "colab": {
      "provenance": []
    },
    "kernelspec": {
      "display_name": "Python 3",
      "name": "python3"
    },
    "language_info": {
      "name": "python"
    }
  },
  "nbformat": 4,
  "nbformat_minor": 0
}
